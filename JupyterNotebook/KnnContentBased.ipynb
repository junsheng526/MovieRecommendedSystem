{
 "cells": [
  {
   "cell_type": "code",
   "execution_count": 18,
   "id": "0ee2771e-4a3e-444d-a73e-8c8398f42145",
   "metadata": {},
   "outputs": [],
   "source": [
    "import pandas as pd\n",
    "from sklearn.feature_extraction.text import TfidfVectorizer\n",
    "from sklearn.metrics.pairwise import linear_kernel, euclidean_distances\n",
    "from sklearn.neighbors import NearestNeighbors\n",
    "from sklearn.metrics import precision_score, recall_score, f1_score\n",
    "\n",
    "# Load the dataset\n",
    "movies = pd.read_csv(\"MovieDatasetOriginal.csv\")"
   ]
  },
  {
   "cell_type": "code",
   "execution_count": 19,
   "id": "11b3bb61-d8dd-4626-a629-06d7dfc0d753",
   "metadata": {},
   "outputs": [],
   "source": [
    "tfidf_vectorizer = TfidfVectorizer(analyzer='word', stop_words='english')\n",
    "tfidf_matrix = tfidf_vectorizer.fit_transform(movies['overview'])\n",
    "\n",
    "# Compute Cosine Similarity Matrix\n",
    "cosine_sim = linear_kernel(tfidf_matrix, tfidf_matrix)"
   ]
  },
  {
   "cell_type": "code",
   "execution_count": 20,
   "id": "baff1b96-3495-47fe-8169-c5af3fde2f45",
   "metadata": {},
   "outputs": [
    {
     "data": {
      "text/html": [
       "<style>#sk-container-id-3 {color: black;background-color: white;}#sk-container-id-3 pre{padding: 0;}#sk-container-id-3 div.sk-toggleable {background-color: white;}#sk-container-id-3 label.sk-toggleable__label {cursor: pointer;display: block;width: 100%;margin-bottom: 0;padding: 0.3em;box-sizing: border-box;text-align: center;}#sk-container-id-3 label.sk-toggleable__label-arrow:before {content: \"▸\";float: left;margin-right: 0.25em;color: #696969;}#sk-container-id-3 label.sk-toggleable__label-arrow:hover:before {color: black;}#sk-container-id-3 div.sk-estimator:hover label.sk-toggleable__label-arrow:before {color: black;}#sk-container-id-3 div.sk-toggleable__content {max-height: 0;max-width: 0;overflow: hidden;text-align: left;background-color: #f0f8ff;}#sk-container-id-3 div.sk-toggleable__content pre {margin: 0.2em;color: black;border-radius: 0.25em;background-color: #f0f8ff;}#sk-container-id-3 input.sk-toggleable__control:checked~div.sk-toggleable__content {max-height: 200px;max-width: 100%;overflow: auto;}#sk-container-id-3 input.sk-toggleable__control:checked~label.sk-toggleable__label-arrow:before {content: \"▾\";}#sk-container-id-3 div.sk-estimator input.sk-toggleable__control:checked~label.sk-toggleable__label {background-color: #d4ebff;}#sk-container-id-3 div.sk-label input.sk-toggleable__control:checked~label.sk-toggleable__label {background-color: #d4ebff;}#sk-container-id-3 input.sk-hidden--visually {border: 0;clip: rect(1px 1px 1px 1px);clip: rect(1px, 1px, 1px, 1px);height: 1px;margin: -1px;overflow: hidden;padding: 0;position: absolute;width: 1px;}#sk-container-id-3 div.sk-estimator {font-family: monospace;background-color: #f0f8ff;border: 1px dotted black;border-radius: 0.25em;box-sizing: border-box;margin-bottom: 0.5em;}#sk-container-id-3 div.sk-estimator:hover {background-color: #d4ebff;}#sk-container-id-3 div.sk-parallel-item::after {content: \"\";width: 100%;border-bottom: 1px solid gray;flex-grow: 1;}#sk-container-id-3 div.sk-label:hover label.sk-toggleable__label {background-color: #d4ebff;}#sk-container-id-3 div.sk-serial::before {content: \"\";position: absolute;border-left: 1px solid gray;box-sizing: border-box;top: 0;bottom: 0;left: 50%;z-index: 0;}#sk-container-id-3 div.sk-serial {display: flex;flex-direction: column;align-items: center;background-color: white;padding-right: 0.2em;padding-left: 0.2em;position: relative;}#sk-container-id-3 div.sk-item {position: relative;z-index: 1;}#sk-container-id-3 div.sk-parallel {display: flex;align-items: stretch;justify-content: center;background-color: white;position: relative;}#sk-container-id-3 div.sk-item::before, #sk-container-id-3 div.sk-parallel-item::before {content: \"\";position: absolute;border-left: 1px solid gray;box-sizing: border-box;top: 0;bottom: 0;left: 50%;z-index: -1;}#sk-container-id-3 div.sk-parallel-item {display: flex;flex-direction: column;z-index: 1;position: relative;background-color: white;}#sk-container-id-3 div.sk-parallel-item:first-child::after {align-self: flex-end;width: 50%;}#sk-container-id-3 div.sk-parallel-item:last-child::after {align-self: flex-start;width: 50%;}#sk-container-id-3 div.sk-parallel-item:only-child::after {width: 0;}#sk-container-id-3 div.sk-dashed-wrapped {border: 1px dashed gray;margin: 0 0.4em 0.5em 0.4em;box-sizing: border-box;padding-bottom: 0.4em;background-color: white;}#sk-container-id-3 div.sk-label label {font-family: monospace;font-weight: bold;display: inline-block;line-height: 1.2em;}#sk-container-id-3 div.sk-label-container {text-align: center;}#sk-container-id-3 div.sk-container {/* jupyter's `normalize.less` sets `[hidden] { display: none; }` but bootstrap.min.css set `[hidden] { display: none !important; }` so we also need the `!important` here to be able to override the default hidden behavior on the sphinx rendered scikit-learn.org. See: https://github.com/scikit-learn/scikit-learn/issues/21755 */display: inline-block !important;position: relative;}#sk-container-id-3 div.sk-text-repr-fallback {display: none;}</style><div id=\"sk-container-id-3\" class=\"sk-top-container\"><div class=\"sk-text-repr-fallback\"><pre>NearestNeighbors(metric=&#x27;cosine&#x27;, n_neighbors=10)</pre><b>In a Jupyter environment, please rerun this cell to show the HTML representation or trust the notebook. <br />On GitHub, the HTML representation is unable to render, please try loading this page with nbviewer.org.</b></div><div class=\"sk-container\" hidden><div class=\"sk-item\"><div class=\"sk-estimator sk-toggleable\"><input class=\"sk-toggleable__control sk-hidden--visually\" id=\"sk-estimator-id-3\" type=\"checkbox\" checked><label for=\"sk-estimator-id-3\" class=\"sk-toggleable__label sk-toggleable__label-arrow\">NearestNeighbors</label><div class=\"sk-toggleable__content\"><pre>NearestNeighbors(metric=&#x27;cosine&#x27;, n_neighbors=10)</pre></div></div></div></div></div>"
      ],
      "text/plain": [
       "NearestNeighbors(metric='cosine', n_neighbors=10)"
      ]
     },
     "execution_count": 20,
     "metadata": {},
     "output_type": "execute_result"
    }
   ],
   "source": [
    "# Initialize Nearest Neighbors model\n",
    "nn_model = NearestNeighbors(n_neighbors=10, metric='cosine')\n",
    "nn_model.fit(tfidf_matrix)"
   ]
  },
  {
   "cell_type": "code",
   "execution_count": 21,
   "id": "277e7744-73b1-4a2f-9598-930f46637f99",
   "metadata": {},
   "outputs": [],
   "source": [
    "def get_cosine_similarity_recommendations(title, no_of_recommendations):\n",
    "    index = movies[movies['original_title'] == title].index[0]\n",
    "    sim_scores = list(enumerate(cosine_sim[index]))\n",
    "    sim_scores = sorted(sim_scores, key=lambda x: x[1], reverse=True)[1:no_of_recommendations+1]\n",
    "    movie_indices = [i[0] for i in sim_scores]\n",
    "    return movies.iloc[movie_indices][['original_title', 'release_year', 'director']]\n",
    "\n",
    "def get_knn_recommendations(title, no_of_recommendations):\n",
    "    title_vector = tfidf_vectorizer.transform([title])\n",
    "    distances, indices = nn_model.kneighbors(title_vector)\n",
    "    movie_indices = indices.flatten()[1:no_of_recommendations+1]\n",
    "    return movies.iloc[movie_indices][['original_title', 'release_year', 'director']]\n",
    "\n",
    "def get_euclidean_distance_recommendations(title, no_of_recommendations):\n",
    "    index = movies[movies['original_title'] == title].index[0]\n",
    "    dist_scores = list(enumerate(euclidean_distances(tfidf_matrix[index], tfidf_matrix)[0]))\n",
    "    dist_scores = sorted(dist_scores, key=lambda x: x[1])[:no_of_recommendations]\n",
    "    movie_indices = [i[0] for i in dist_scores]\n",
    "    return movies.iloc[movie_indices][['original_title', 'release_year', 'director']]"
   ]
  },
  {
   "cell_type": "code",
   "execution_count": 22,
   "id": "c273531b-f1b7-4443-a2ce-e10b657494a2",
   "metadata": {},
   "outputs": [
    {
     "name": "stdout",
     "output_type": "stream",
     "text": [
      "Recommendations using Cosine Similarity:\n",
      "                         original_title  release_year  \\\n",
      "722               The Dark Knight Rises          2012   \n",
      "914                       Batman Begins          2005   \n",
      "554  Sherlock Holmes: A Game of Shadows          2011   \n",
      "857                     Despicable Me 2          2013   \n",
      "80                 Secret in Their Eyes          2015   \n",
      "\n",
      "                       director  \n",
      "722           Christopher Nolan  \n",
      "914           Christopher Nolan  \n",
      "554                 Guy Ritchie  \n",
      "857  Pierre Coffin|Chris Renaud  \n",
      "80                    Billy Ray  \n",
      "\n",
      "Recommendations using KNN:\n",
      "             original_title  release_year           director\n",
      "722   The Dark Knight Rises          2012  Christopher Nolan\n",
      "143      As Above, So Below          2014  John Erick Dowdle\n",
      "908             The Canyons          2013      Paul Schrader\n",
      "1139     Death at a Funeral          2007           Frank Oz\n",
      "105                    Lucy          2014         Luc Besson\n",
      "\n",
      "Recommendations using Euclidean Distance:\n",
      "                         original_title  release_year  \\\n",
      "453                     The Dark Knight          2008   \n",
      "722               The Dark Knight Rises          2012   \n",
      "914                       Batman Begins          2005   \n",
      "554  Sherlock Holmes: A Game of Shadows          2011   \n",
      "857                     Despicable Me 2          2013   \n",
      "\n",
      "                       director  \n",
      "453           Christopher Nolan  \n",
      "722           Christopher Nolan  \n",
      "914           Christopher Nolan  \n",
      "554                 Guy Ritchie  \n",
      "857  Pierre Coffin|Chris Renaud  \n"
     ]
    }
   ],
   "source": [
    "# Choose a movie title\n",
    "input_title = \"The Dark Knight\"\n",
    "\n",
    "cosine_sim_recommendations = get_cosine_similarity_recommendations(input_title, 5)\n",
    "print(\"Recommendations using Cosine Similarity:\")\n",
    "print(cosine_sim_recommendations)\n",
    "\n",
    "# Get recommendations using KNN\n",
    "knn_recommendations = get_knn_recommendations(input_title, 5)\n",
    "print(\"\\nRecommendations using KNN:\")\n",
    "print(knn_recommendations)\n",
    "\n",
    "# Get recommendations using Euclidean Distance\n",
    "euclidean_dist_recommendations = get_euclidean_distance_recommendations(input_title, 5)\n",
    "print(\"\\nRecommendations using Euclidean Distance:\")\n",
    "print(euclidean_dist_recommendations)"
   ]
  },
  {
   "cell_type": "code",
   "execution_count": 26,
   "id": "b5719d67-ee66-47cf-a730-21bd2ddc56c3",
   "metadata": {},
   "outputs": [
    {
     "name": "stdout",
     "output_type": "stream",
     "text": [
      "Evaluation Results:\n",
      "Cosine Similarity Approach - Precision@5: 0.200\n",
      "Cosine Similarity Approach - Recall@5: 0.200\n",
      "Cosine Similarity Approach - F1-score@5: 0.200\n",
      "\n",
      "KNN Approach - Precision@5: 0.000\n",
      "KNN Approach - Recall@5: 0.000\n",
      "KNN Approach - F1-score@5: 0.000\n",
      "\n",
      "Euclidean Distance Approach - Precision@5: 0.200\n",
      "Euclidean Distance Approach - Recall@5: 0.200\n",
      "Euclidean Distance Approach - F1-score@5: 0.200\n"
     ]
    }
   ],
   "source": [
    "# Relevant items related to \"The Dark Knight\" (ground truth)\n",
    "# relevant_items = [\"The Dark Knight Rises\", \"Inception\", \"Interstellar\", \"Batman Begins\", \"The Dark Knight Trilogy\"]\n",
    "relevant_items = [\"Avengers: Age of Ultron\", \"Guardians of the Galaxy\", \"Iron Man 2\", \"Captain America: The Winter Soldier\", \"Thor\"]\n",
    "\n",
    "# Function to calculate Precision, Recall, and F1-score\n",
    "def evaluate_recommendations(recommended_items, relevant_items, K=5):\n",
    "    recommended_set = set(recommended_items)\n",
    "    relevant_set = set(relevant_items)\n",
    "    true_positives = recommended_set.intersection(relevant_set)\n",
    "    \n",
    "    # Calculate Precision, Recall, and F1-score\n",
    "    precision = len(true_positives) / K if K > 0 else 0.0\n",
    "    recall = len(true_positives) / len(relevant_set) if len(relevant_set) > 0 else 0.0\n",
    "    f1 = (2 * precision * recall) / (precision + recall) if (precision + recall) > 0 else 0.0\n",
    "    \n",
    "    return precision, recall, f1\n",
    "\n",
    "# Choose a movie title\n",
    "# input_title = \"The Dark Knight\"\n",
    "input_title = \"Captain America: The First Avenger\"\n",
    "\n",
    "# Get recommendations using Cosine Similarity\n",
    "cosine_sim_recommendations = get_cosine_similarity_recommendations(input_title, 5)\n",
    "cosine_sim_titles = cosine_sim_recommendations['original_title'].tolist()\n",
    "precision_cosine, recall_cosine, f1_cosine = evaluate_recommendations(cosine_sim_titles, relevant_items, K=5)\n",
    "\n",
    "# Get recommendations using KNN\n",
    "knn_recommendations = get_knn_recommendations(input_title, 5)\n",
    "knn_titles = knn_recommendations['original_title'].tolist()\n",
    "precision_knn, recall_knn, f1_knn = evaluate_recommendations(knn_titles, relevant_items, K=5)\n",
    "\n",
    "# Get recommendations using Euclidean Distance\n",
    "euclidean_dist_recommendations = get_euclidean_distance_recommendations(input_title, 5)\n",
    "euclidean_dist_titles = euclidean_dist_recommendations['original_title'].tolist()\n",
    "precision_euclidean, recall_euclidean, f1_euclidean = evaluate_recommendations(euclidean_dist_titles, relevant_items, K=5)\n",
    "\n",
    "# Display evaluation results with three decimal places\n",
    "print(\"Evaluation Results:\")\n",
    "print(f\"Cosine Similarity Approach - Precision@5: {precision_cosine:.3f}\")\n",
    "print(f\"Cosine Similarity Approach - Recall@5: {recall_cosine:.3f}\")\n",
    "print(f\"Cosine Similarity Approach - F1-score@5: {f1_cosine:.3f}\")\n",
    "\n",
    "print(f\"\\nKNN Approach - Precision@5: {precision_knn:.3f}\")\n",
    "print(f\"KNN Approach - Recall@5: {recall_knn:.3f}\")\n",
    "print(f\"KNN Approach - F1-score@5: {f1_knn:.3f}\")\n",
    "\n",
    "print(f\"\\nEuclidean Distance Approach - Precision@5: {precision_euclidean:.3f}\")\n",
    "print(f\"Euclidean Distance Approach - Recall@5: {recall_euclidean:.3f}\")\n",
    "print(f\"Euclidean Distance Approach - F1-score@5: {f1_euclidean:.3f}\")"
   ]
  },
  {
   "cell_type": "code",
   "execution_count": null,
   "id": "c3733673-acb5-46f7-86e3-76476139899c",
   "metadata": {},
   "outputs": [],
   "source": []
  },
  {
   "cell_type": "code",
   "execution_count": null,
   "id": "31175935-58fa-4378-9aeb-1e1320f3cdf7",
   "metadata": {},
   "outputs": [],
   "source": []
  },
  {
   "cell_type": "code",
   "execution_count": null,
   "id": "abee11f3-1cce-4633-9bf9-b31b99885ad7",
   "metadata": {},
   "outputs": [],
   "source": []
  },
  {
   "cell_type": "code",
   "execution_count": null,
   "id": "67db19cd-f226-477a-af92-ce0d7c42c6d6",
   "metadata": {},
   "outputs": [],
   "source": []
  }
 ],
 "metadata": {
  "kernelspec": {
   "display_name": "Python 3 (ipykernel)",
   "language": "python",
   "name": "python3"
  },
  "language_info": {
   "codemirror_mode": {
    "name": "ipython",
    "version": 3
   },
   "file_extension": ".py",
   "mimetype": "text/x-python",
   "name": "python",
   "nbconvert_exporter": "python",
   "pygments_lexer": "ipython3",
   "version": "3.11.7"
  }
 },
 "nbformat": 4,
 "nbformat_minor": 5
}

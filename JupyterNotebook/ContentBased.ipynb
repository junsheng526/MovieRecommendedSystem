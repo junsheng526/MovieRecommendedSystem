{
 "cells": [
  {
   "cell_type": "markdown",
   "id": "891ad55a-2add-4eb0-8c92-330d7134e86b",
   "metadata": {},
   "source": [
    "## Import Libraries"
   ]
  },
  {
   "cell_type": "code",
   "execution_count": 1,
   "id": "7ed33ada-4c82-41d2-b74e-4670ce3a4faa",
   "metadata": {},
   "outputs": [],
   "source": [
    "import pandas as pd\n",
    "pd.set_option('display.max_columns', None)"
   ]
  },
  {
   "cell_type": "code",
   "execution_count": 11,
   "id": "70368a92-9ee6-4316-a7c7-593399e071a1",
   "metadata": {},
   "outputs": [],
   "source": [
    "import numpy as np\n",
    "import matplotlib.pyplot as plt\n",
    "%matplotlib inline\n",
    "import seaborn as sns\n",
    "from sklearn.feature_extraction.text import TfidfVectorizer\n",
    "from sklearn.metrics.pairwise import linear_kernel\n",
    "from ast import literal_eval\n",
    "from sklearn.feature_extraction.text import CountVectorizer\n",
    "from sklearn.metrics.pairwise import cosine_similarity\n",
    "from surprise import SVD, Reader, Dataset \n",
    "from surprise.model_selection import cross_validate"
   ]
  },
  {
   "cell_type": "markdown",
   "id": "b813b4b9-3124-45cd-96ca-7996865c37a8",
   "metadata": {},
   "source": [
    "## Data Understanding"
   ]
  },
  {
   "cell_type": "code",
   "execution_count": 59,
   "id": "50491581-1cdb-49c5-8ecf-399d637c37bb",
   "metadata": {},
   "outputs": [
    {
     "data": {
      "text/html": [
       "<div>\n",
       "<style scoped>\n",
       "    .dataframe tbody tr th:only-of-type {\n",
       "        vertical-align: middle;\n",
       "    }\n",
       "\n",
       "    .dataframe tbody tr th {\n",
       "        vertical-align: top;\n",
       "    }\n",
       "\n",
       "    .dataframe thead th {\n",
       "        text-align: right;\n",
       "    }\n",
       "</style>\n",
       "<table border=\"1\" class=\"dataframe\">\n",
       "  <thead>\n",
       "    <tr style=\"text-align: right;\">\n",
       "      <th></th>\n",
       "      <th>Unnamed: 0</th>\n",
       "      <th>id</th>\n",
       "      <th>imdb_id</th>\n",
       "      <th>popularity</th>\n",
       "      <th>budget</th>\n",
       "      <th>revenue</th>\n",
       "      <th>original_title</th>\n",
       "      <th>cast</th>\n",
       "      <th>homepage</th>\n",
       "      <th>director</th>\n",
       "      <th>tagline</th>\n",
       "      <th>keywords</th>\n",
       "      <th>overview</th>\n",
       "      <th>runtime</th>\n",
       "      <th>genres</th>\n",
       "      <th>production_companies</th>\n",
       "      <th>release_date</th>\n",
       "      <th>vote_count</th>\n",
       "      <th>vote_average</th>\n",
       "      <th>release_year</th>\n",
       "      <th>budget_adj</th>\n",
       "      <th>revenue_adj</th>\n",
       "      <th>profit</th>\n",
       "      <th>popularity_level</th>\n",
       "    </tr>\n",
       "  </thead>\n",
       "  <tbody>\n",
       "    <tr>\n",
       "      <th>0</th>\n",
       "      <td>0</td>\n",
       "      <td>135397</td>\n",
       "      <td>tt0369610</td>\n",
       "      <td>32.985763</td>\n",
       "      <td>150000000</td>\n",
       "      <td>1513528810</td>\n",
       "      <td>Jurassic World</td>\n",
       "      <td>Chris Pratt|Bryce Dallas Howard|Irrfan Khan|Vi...</td>\n",
       "      <td>http://www.jurassicworld.com/</td>\n",
       "      <td>Colin Trevorrow</td>\n",
       "      <td>The park is open.</td>\n",
       "      <td>monster|dna|tyrannosaurus rex|velociraptor|island</td>\n",
       "      <td>Twenty-two years after the events of Jurassic ...</td>\n",
       "      <td>124</td>\n",
       "      <td>Action|Adventure|Science Fiction|Thriller</td>\n",
       "      <td>Universal Studios|Amblin Entertainment|Legenda...</td>\n",
       "      <td>9/6/2015</td>\n",
       "      <td>5562</td>\n",
       "      <td>6.5</td>\n",
       "      <td>2015</td>\n",
       "      <td>137999939.3</td>\n",
       "      <td>1.392446e+09</td>\n",
       "      <td>1363528810</td>\n",
       "      <td>High</td>\n",
       "    </tr>\n",
       "    <tr>\n",
       "      <th>1</th>\n",
       "      <td>1</td>\n",
       "      <td>76341</td>\n",
       "      <td>tt1392190</td>\n",
       "      <td>28.419936</td>\n",
       "      <td>150000000</td>\n",
       "      <td>378436354</td>\n",
       "      <td>Mad Max: Fury Road</td>\n",
       "      <td>Tom Hardy|Charlize Theron|Hugh Keays-Byrne|Nic...</td>\n",
       "      <td>http://www.madmaxmovie.com/</td>\n",
       "      <td>George Miller</td>\n",
       "      <td>What a Lovely Day.</td>\n",
       "      <td>future|chase|post-apocalyptic|dystopia|australia</td>\n",
       "      <td>An apocalyptic story set in the furthest reach...</td>\n",
       "      <td>120</td>\n",
       "      <td>Action|Adventure|Science Fiction|Thriller</td>\n",
       "      <td>Village Roadshow Pictures|Kennedy Miller Produ...</td>\n",
       "      <td>13/5/2015</td>\n",
       "      <td>6185</td>\n",
       "      <td>7.1</td>\n",
       "      <td>2015</td>\n",
       "      <td>137999939.3</td>\n",
       "      <td>3.481613e+08</td>\n",
       "      <td>228436354</td>\n",
       "      <td>High</td>\n",
       "    </tr>\n",
       "    <tr>\n",
       "      <th>2</th>\n",
       "      <td>2</td>\n",
       "      <td>262500</td>\n",
       "      <td>tt2908446</td>\n",
       "      <td>13.112507</td>\n",
       "      <td>110000000</td>\n",
       "      <td>295238201</td>\n",
       "      <td>Insurgent</td>\n",
       "      <td>Shailene Woodley|Theo James|Kate Winslet|Ansel...</td>\n",
       "      <td>http://www.thedivergentseries.movie/#insurgent</td>\n",
       "      <td>Robert Schwentke</td>\n",
       "      <td>One Choice Can Destroy You</td>\n",
       "      <td>based on novel|revolution|dystopia|sequel|dyst...</td>\n",
       "      <td>Beatrice Prior must confront her inner demons ...</td>\n",
       "      <td>119</td>\n",
       "      <td>Adventure|Science Fiction|Thriller</td>\n",
       "      <td>Summit Entertainment|Mandeville Films|Red Wago...</td>\n",
       "      <td>18/3/2015</td>\n",
       "      <td>2480</td>\n",
       "      <td>6.3</td>\n",
       "      <td>2015</td>\n",
       "      <td>101199955.5</td>\n",
       "      <td>2.716190e+08</td>\n",
       "      <td>185238201</td>\n",
       "      <td>High</td>\n",
       "    </tr>\n",
       "    <tr>\n",
       "      <th>3</th>\n",
       "      <td>3</td>\n",
       "      <td>140607</td>\n",
       "      <td>tt2488496</td>\n",
       "      <td>11.173104</td>\n",
       "      <td>200000000</td>\n",
       "      <td>2068178225</td>\n",
       "      <td>Star Wars: The Force Awakens</td>\n",
       "      <td>Harrison Ford|Mark Hamill|Carrie Fisher|Adam D...</td>\n",
       "      <td>http://www.starwars.com/films/star-wars-episod...</td>\n",
       "      <td>J.J. Abrams</td>\n",
       "      <td>Every generation has a story.</td>\n",
       "      <td>android|spaceship|jedi|space opera|3d</td>\n",
       "      <td>Thirty years after defeating the Galactic Empi...</td>\n",
       "      <td>136</td>\n",
       "      <td>Action|Adventure|Science Fiction|Fantasy</td>\n",
       "      <td>Lucasfilm|Truenorth Productions|Bad Robot</td>\n",
       "      <td>15/12/2015</td>\n",
       "      <td>5292</td>\n",
       "      <td>7.5</td>\n",
       "      <td>2015</td>\n",
       "      <td>183999919.0</td>\n",
       "      <td>1.902723e+09</td>\n",
       "      <td>1868178225</td>\n",
       "      <td>High</td>\n",
       "    </tr>\n",
       "    <tr>\n",
       "      <th>4</th>\n",
       "      <td>4</td>\n",
       "      <td>168259</td>\n",
       "      <td>tt2820852</td>\n",
       "      <td>9.335014</td>\n",
       "      <td>190000000</td>\n",
       "      <td>1506249360</td>\n",
       "      <td>Furious 7</td>\n",
       "      <td>Vin Diesel|Paul Walker|Jason Statham|Michelle ...</td>\n",
       "      <td>http://www.furious7.com/</td>\n",
       "      <td>James Wan</td>\n",
       "      <td>Vengeance Hits Home</td>\n",
       "      <td>car race|speed|revenge|suspense|car</td>\n",
       "      <td>Deckard Shaw seeks revenge against Dominic Tor...</td>\n",
       "      <td>137</td>\n",
       "      <td>Action|Crime|Thriller</td>\n",
       "      <td>Universal Pictures|Original Film|Media Rights ...</td>\n",
       "      <td>1/4/2015</td>\n",
       "      <td>2947</td>\n",
       "      <td>7.3</td>\n",
       "      <td>2015</td>\n",
       "      <td>174799923.1</td>\n",
       "      <td>1.385749e+09</td>\n",
       "      <td>1316249360</td>\n",
       "      <td>High</td>\n",
       "    </tr>\n",
       "  </tbody>\n",
       "</table>\n",
       "</div>"
      ],
      "text/plain": [
       "   Unnamed: 0      id    imdb_id  popularity     budget     revenue  \\\n",
       "0           0  135397  tt0369610   32.985763  150000000  1513528810   \n",
       "1           1   76341  tt1392190   28.419936  150000000   378436354   \n",
       "2           2  262500  tt2908446   13.112507  110000000   295238201   \n",
       "3           3  140607  tt2488496   11.173104  200000000  2068178225   \n",
       "4           4  168259  tt2820852    9.335014  190000000  1506249360   \n",
       "\n",
       "                 original_title  \\\n",
       "0                Jurassic World   \n",
       "1            Mad Max: Fury Road   \n",
       "2                     Insurgent   \n",
       "3  Star Wars: The Force Awakens   \n",
       "4                     Furious 7   \n",
       "\n",
       "                                                cast  \\\n",
       "0  Chris Pratt|Bryce Dallas Howard|Irrfan Khan|Vi...   \n",
       "1  Tom Hardy|Charlize Theron|Hugh Keays-Byrne|Nic...   \n",
       "2  Shailene Woodley|Theo James|Kate Winslet|Ansel...   \n",
       "3  Harrison Ford|Mark Hamill|Carrie Fisher|Adam D...   \n",
       "4  Vin Diesel|Paul Walker|Jason Statham|Michelle ...   \n",
       "\n",
       "                                            homepage          director  \\\n",
       "0                      http://www.jurassicworld.com/   Colin Trevorrow   \n",
       "1                        http://www.madmaxmovie.com/     George Miller   \n",
       "2     http://www.thedivergentseries.movie/#insurgent  Robert Schwentke   \n",
       "3  http://www.starwars.com/films/star-wars-episod...       J.J. Abrams   \n",
       "4                           http://www.furious7.com/         James Wan   \n",
       "\n",
       "                         tagline  \\\n",
       "0              The park is open.   \n",
       "1             What a Lovely Day.   \n",
       "2     One Choice Can Destroy You   \n",
       "3  Every generation has a story.   \n",
       "4            Vengeance Hits Home   \n",
       "\n",
       "                                            keywords  \\\n",
       "0  monster|dna|tyrannosaurus rex|velociraptor|island   \n",
       "1   future|chase|post-apocalyptic|dystopia|australia   \n",
       "2  based on novel|revolution|dystopia|sequel|dyst...   \n",
       "3              android|spaceship|jedi|space opera|3d   \n",
       "4                car race|speed|revenge|suspense|car   \n",
       "\n",
       "                                            overview  runtime  \\\n",
       "0  Twenty-two years after the events of Jurassic ...      124   \n",
       "1  An apocalyptic story set in the furthest reach...      120   \n",
       "2  Beatrice Prior must confront her inner demons ...      119   \n",
       "3  Thirty years after defeating the Galactic Empi...      136   \n",
       "4  Deckard Shaw seeks revenge against Dominic Tor...      137   \n",
       "\n",
       "                                      genres  \\\n",
       "0  Action|Adventure|Science Fiction|Thriller   \n",
       "1  Action|Adventure|Science Fiction|Thriller   \n",
       "2         Adventure|Science Fiction|Thriller   \n",
       "3   Action|Adventure|Science Fiction|Fantasy   \n",
       "4                      Action|Crime|Thriller   \n",
       "\n",
       "                                production_companies release_date  vote_count  \\\n",
       "0  Universal Studios|Amblin Entertainment|Legenda...     9/6/2015        5562   \n",
       "1  Village Roadshow Pictures|Kennedy Miller Produ...    13/5/2015        6185   \n",
       "2  Summit Entertainment|Mandeville Films|Red Wago...    18/3/2015        2480   \n",
       "3          Lucasfilm|Truenorth Productions|Bad Robot   15/12/2015        5292   \n",
       "4  Universal Pictures|Original Film|Media Rights ...     1/4/2015        2947   \n",
       "\n",
       "   vote_average  release_year   budget_adj   revenue_adj      profit  \\\n",
       "0           6.5          2015  137999939.3  1.392446e+09  1363528810   \n",
       "1           7.1          2015  137999939.3  3.481613e+08   228436354   \n",
       "2           6.3          2015  101199955.5  2.716190e+08   185238201   \n",
       "3           7.5          2015  183999919.0  1.902723e+09  1868178225   \n",
       "4           7.3          2015  174799923.1  1.385749e+09  1316249360   \n",
       "\n",
       "  popularity_level  \n",
       "0             High  \n",
       "1             High  \n",
       "2             High  \n",
       "3             High  \n",
       "4             High  "
      ]
     },
     "execution_count": 59,
     "metadata": {},
     "output_type": "execute_result"
    }
   ],
   "source": [
    "movies = pd.read_csv(\"MovieDatasetOriginal.csv\")\n",
    "movies.head()"
   ]
  },
  {
   "cell_type": "code",
   "execution_count": 26,
   "id": "76130daf-d223-4149-9363-dbe476e9bfc8",
   "metadata": {},
   "outputs": [
    {
     "data": {
      "text/plain": [
       "Index(['Unnamed: 0', 'id', 'imdb_id', 'popularity', 'budget', 'revenue',\n",
       "       'original_title', 'cast', 'homepage', 'director', 'tagline', 'keywords',\n",
       "       'overview', 'runtime', 'genres', 'production_companies', 'release_date',\n",
       "       'vote_count', 'vote_average', 'release_year', 'budget_adj',\n",
       "       'revenue_adj', 'profit', 'popularity_level'],\n",
       "      dtype='object')"
      ]
     },
     "execution_count": 26,
     "metadata": {},
     "output_type": "execute_result"
    }
   ],
   "source": [
    "movies.columns"
   ]
  },
  {
   "cell_type": "markdown",
   "id": "e2192180-7358-4fa0-9b3c-4ac969c99414",
   "metadata": {},
   "source": [
    "## Data Preprocessing for 'Overview' Content Based Recommender System"
   ]
  },
  {
   "cell_type": "code",
   "execution_count": 27,
   "id": "16d463dc-6eca-463b-86b6-4c5bed66817c",
   "metadata": {},
   "outputs": [
    {
     "data": {
      "text/html": [
       "<div>\n",
       "<style scoped>\n",
       "    .dataframe tbody tr th:only-of-type {\n",
       "        vertical-align: middle;\n",
       "    }\n",
       "\n",
       "    .dataframe tbody tr th {\n",
       "        vertical-align: top;\n",
       "    }\n",
       "\n",
       "    .dataframe thead th {\n",
       "        text-align: right;\n",
       "    }\n",
       "</style>\n",
       "<table border=\"1\" class=\"dataframe\">\n",
       "  <thead>\n",
       "    <tr style=\"text-align: right;\">\n",
       "      <th></th>\n",
       "      <th>overview</th>\n",
       "    </tr>\n",
       "  </thead>\n",
       "  <tbody>\n",
       "    <tr>\n",
       "      <th>0</th>\n",
       "      <td>Twenty-two years after the events of Jurassic ...</td>\n",
       "    </tr>\n",
       "    <tr>\n",
       "      <th>1</th>\n",
       "      <td>An apocalyptic story set in the furthest reach...</td>\n",
       "    </tr>\n",
       "    <tr>\n",
       "      <th>2</th>\n",
       "      <td>Beatrice Prior must confront her inner demons ...</td>\n",
       "    </tr>\n",
       "    <tr>\n",
       "      <th>3</th>\n",
       "      <td>Thirty years after defeating the Galactic Empi...</td>\n",
       "    </tr>\n",
       "    <tr>\n",
       "      <th>4</th>\n",
       "      <td>Deckard Shaw seeks revenge against Dominic Tor...</td>\n",
       "    </tr>\n",
       "  </tbody>\n",
       "</table>\n",
       "</div>"
      ],
      "text/plain": [
       "                                            overview\n",
       "0  Twenty-two years after the events of Jurassic ...\n",
       "1  An apocalyptic story set in the furthest reach...\n",
       "2  Beatrice Prior must confront her inner demons ...\n",
       "3  Thirty years after defeating the Galactic Empi...\n",
       "4  Deckard Shaw seeks revenge against Dominic Tor..."
      ]
     },
     "execution_count": 27,
     "metadata": {},
     "output_type": "execute_result"
    }
   ],
   "source": [
    "movies[['overview']].head()"
   ]
  },
  {
   "cell_type": "code",
   "execution_count": 15,
   "id": "32419ab9-1f06-4bdd-a5d4-d2a499b8666d",
   "metadata": {},
   "outputs": [
    {
     "data": {
      "text/plain": [
       "overview    0\n",
       "dtype: int64"
      ]
     },
     "execution_count": 15,
     "metadata": {},
     "output_type": "execute_result"
    }
   ],
   "source": [
    "movies.isnull().sum()"
   ]
  },
  {
   "cell_type": "markdown",
   "id": "379ddbec-20a6-4d4b-9bf5-a54bb577c110",
   "metadata": {},
   "source": [
    "### Constructing TF-IDF Matrix\n",
    "\n",
    "Term Frequency (TF) is the relative frequency of a word in a document and is given as (term instances/total instances). Inverse Document Frequency (IDF) is the relative count of documents containing the term and is given as log(number of documents/documents with term). The overall importance of each word to the documents in which they appear is equal to TF * IDF\r\n",
    "\r\n",
    "This gives us a matrix where each column represents a word in the overall overview vocabulary and each row represents a movie.This is done to reduce the importance of words that occur frequently in plot overviews and therefore, their significance in computing the final similarity score."
   ]
  },
  {
   "cell_type": "code",
   "execution_count": 28,
   "id": "e6dcb454-8c54-4d23-9d4d-56425768fb20",
   "metadata": {
    "scrolled": true
   },
   "outputs": [
    {
     "name": "stdout",
     "output_type": "stream",
     "text": [
      "[[0. 0. 0. ... 0. 0. 0.]\n",
      " [0. 0. 0. ... 0. 0. 0.]\n",
      " [0. 0. 0. ... 0. 0. 0.]\n",
      " ...\n",
      " [0. 0. 0. ... 0. 0. 0.]\n",
      " [0. 0. 0. ... 0. 0. 0.]\n",
      " [0. 0. 0. ... 0. 0. 0.]]\n"
     ]
    },
    {
     "data": {
      "text/plain": [
       "(1287, 10470)"
      ]
     },
     "execution_count": 28,
     "metadata": {},
     "output_type": "execute_result"
    }
   ],
   "source": [
    "tfidfv=TfidfVectorizer(analyzer='word', stop_words='english')\n",
    "tfidfv_matrix=tfidfv.fit_transform(movies['overview'])\n",
    "print(tfidfv_matrix.todense())\n",
    "tfidfv_matrix.todense().shape"
   ]
  },
  {
   "cell_type": "markdown",
   "id": "f3015222-e9c7-4f0e-bb7b-fa3d6ca103d2",
   "metadata": {},
   "source": [
    "### Computing Similarity Score"
   ]
  },
  {
   "cell_type": "code",
   "execution_count": 29,
   "id": "95dcb2a3-d0b6-4333-9af0-d95311520e2e",
   "metadata": {},
   "outputs": [],
   "source": [
    "cosine_sim1 = linear_kernel(tfidfv_matrix, tfidfv_matrix)"
   ]
  },
  {
   "cell_type": "code",
   "execution_count": 30,
   "id": "bb0331a0-d038-4e01-8481-3f175adc974d",
   "metadata": {},
   "outputs": [
    {
     "data": {
      "text/plain": [
       "(1287, 1287)"
      ]
     },
     "execution_count": 30,
     "metadata": {},
     "output_type": "execute_result"
    }
   ],
   "source": [
    "cosine_sim1.shape "
   ]
  },
  {
   "cell_type": "code",
   "execution_count": 31,
   "id": "a0e81954-c481-40dc-91da-445c13700154",
   "metadata": {},
   "outputs": [],
   "source": [
    "indices=pd.Series(data=list(movies.index), index= movies['original_title'] )"
   ]
  },
  {
   "cell_type": "code",
   "execution_count": 32,
   "id": "f1a0499f-ef6a-4406-a31d-e529e29aa450",
   "metadata": {},
   "outputs": [
    {
     "data": {
      "text/plain": [
       "original_title\n",
       "Jurassic World                  0\n",
       "Mad Max: Fury Road              1\n",
       "Insurgent                       2\n",
       "Star Wars: The Force Awakens    3\n",
       "Furious 7                       4\n",
       "dtype: int64"
      ]
     },
     "execution_count": 32,
     "metadata": {},
     "output_type": "execute_result"
    }
   ],
   "source": [
    "indices.head()"
   ]
  },
  {
   "cell_type": "markdown",
   "id": "24840036-b2db-4b1f-a216-e88bd69a07e3",
   "metadata": {},
   "source": [
    "## Modelling"
   ]
  },
  {
   "cell_type": "code",
   "execution_count": 37,
   "id": "8da84d99-78d4-43d7-a8b8-e774fd4e1612",
   "metadata": {},
   "outputs": [],
   "source": [
    "# Function that takes in movie title as input and outputs most similar movies\n",
    "def content_recommendations(title, cosine_sim):\n",
    "    \n",
    "    # Get the index of the movie that matches the title\n",
    "    idx = indices[title]\n",
    "    \n",
    "    # Get the pairwsie similarity scores of all movies with that movie\n",
    "    sim_scores = list(enumerate(cosine_sim[idx]))\n",
    "    \n",
    "    # Sort the movies based on the similarity scores\n",
    "    sim_scores.sort(key=lambda x: x[1], reverse=True)\n",
    "\n",
    "    # Get the scores of the 10 most similar movies\n",
    "    sim_scores=sim_scores[1:11]\n",
    "    \n",
    "    # Get the movie indices\n",
    "    ind=[]\n",
    "    for (x,y) in sim_scores:\n",
    "        ind.append(x)\n",
    "        \n",
    "    # Return the top 10 most similar movies\n",
    "    tit=[]\n",
    "    for x in ind:\n",
    "        tit.append(movies.iloc[x]['original_title'])\n",
    "    return pd.Series(data=tit, index=ind)"
   ]
  },
  {
   "cell_type": "code",
   "execution_count": 38,
   "id": "0367227e-b1b4-4ecd-ac35-6a24a0c32b94",
   "metadata": {},
   "outputs": [
    {
     "data": {
      "text/plain": [
       "453                      The Dark Knight\n",
       "914                        Batman Begins\n",
       "80                  Secret in Their Eyes\n",
       "486                            Max Payne\n",
       "612                              Beastly\n",
       "112                      American Sniper\n",
       "815                            Daredevil\n",
       "1207                              Eraser\n",
       "521     Justice League: The New Frontier\n",
       "216                              Case 39\n",
       "dtype: object"
      ]
     },
     "execution_count": 38,
     "metadata": {},
     "output_type": "execute_result"
    }
   ],
   "source": [
    "content_recommendations('The Dark Knight Rises',cosine_sim1)"
   ]
  },
  {
   "cell_type": "code",
   "execution_count": 39,
   "id": "a4e95812-7ded-45ac-96e7-0e86ac9b35a7",
   "metadata": {},
   "outputs": [
    {
     "data": {
      "text/plain": [
       "14                  Avengers: Age of Ultron\n",
       "24             Kingsman: The Secret Service\n",
       "220                                    Push\n",
       "1044                 The Day After Tomorrow\n",
       "48                                      Spy\n",
       "1065             Team America: World Police\n",
       "644                             The Dilemma\n",
       "981                            The Fountain\n",
       "1241    Lock, Stock and Two Smoking Barrels\n",
       "385         Wall Street: Money Never Sleeps\n",
       "dtype: object"
      ]
     },
     "execution_count": 39,
     "metadata": {},
     "output_type": "execute_result"
    }
   ],
   "source": [
    "content_recommendations('The Avengers',cosine_sim1)"
   ]
  },
  {
   "cell_type": "markdown",
   "id": "f7c4968e-f2a6-45e2-9b6a-27beb78b8b04",
   "metadata": {},
   "source": [
    "## Movie Cast, Crew, Keywords, Genres Based Recommender"
   ]
  },
  {
   "cell_type": "markdown",
   "id": "59fce901-4d81-4887-8ab1-c9b04897f68a",
   "metadata": {},
   "source": [
    "## Data Preprocessing"
   ]
  },
  {
   "cell_type": "code",
   "execution_count": 60,
   "id": "2ad6a12d-ec0a-49b5-904f-3615c06504c8",
   "metadata": {},
   "outputs": [
    {
     "data": {
      "text/html": [
       "<div>\n",
       "<style scoped>\n",
       "    .dataframe tbody tr th:only-of-type {\n",
       "        vertical-align: middle;\n",
       "    }\n",
       "\n",
       "    .dataframe tbody tr th {\n",
       "        vertical-align: top;\n",
       "    }\n",
       "\n",
       "    .dataframe thead th {\n",
       "        text-align: right;\n",
       "    }\n",
       "</style>\n",
       "<table border=\"1\" class=\"dataframe\">\n",
       "  <thead>\n",
       "    <tr style=\"text-align: right;\">\n",
       "      <th></th>\n",
       "      <th>cast</th>\n",
       "      <th>director</th>\n",
       "      <th>keywords</th>\n",
       "      <th>genres</th>\n",
       "    </tr>\n",
       "  </thead>\n",
       "  <tbody>\n",
       "    <tr>\n",
       "      <th>0</th>\n",
       "      <td>Chris Pratt|Bryce Dallas Howard|Irrfan Khan|Vi...</td>\n",
       "      <td>Colin Trevorrow</td>\n",
       "      <td>monster|dna|tyrannosaurus rex|velociraptor|island</td>\n",
       "      <td>Action|Adventure|Science Fiction|Thriller</td>\n",
       "    </tr>\n",
       "    <tr>\n",
       "      <th>1</th>\n",
       "      <td>Tom Hardy|Charlize Theron|Hugh Keays-Byrne|Nic...</td>\n",
       "      <td>George Miller</td>\n",
       "      <td>future|chase|post-apocalyptic|dystopia|australia</td>\n",
       "      <td>Action|Adventure|Science Fiction|Thriller</td>\n",
       "    </tr>\n",
       "    <tr>\n",
       "      <th>2</th>\n",
       "      <td>Shailene Woodley|Theo James|Kate Winslet|Ansel...</td>\n",
       "      <td>Robert Schwentke</td>\n",
       "      <td>based on novel|revolution|dystopia|sequel|dyst...</td>\n",
       "      <td>Adventure|Science Fiction|Thriller</td>\n",
       "    </tr>\n",
       "    <tr>\n",
       "      <th>3</th>\n",
       "      <td>Harrison Ford|Mark Hamill|Carrie Fisher|Adam D...</td>\n",
       "      <td>J.J. Abrams</td>\n",
       "      <td>android|spaceship|jedi|space opera|3d</td>\n",
       "      <td>Action|Adventure|Science Fiction|Fantasy</td>\n",
       "    </tr>\n",
       "    <tr>\n",
       "      <th>4</th>\n",
       "      <td>Vin Diesel|Paul Walker|Jason Statham|Michelle ...</td>\n",
       "      <td>James Wan</td>\n",
       "      <td>car race|speed|revenge|suspense|car</td>\n",
       "      <td>Action|Crime|Thriller</td>\n",
       "    </tr>\n",
       "  </tbody>\n",
       "</table>\n",
       "</div>"
      ],
      "text/plain": [
       "                                                cast          director  \\\n",
       "0  Chris Pratt|Bryce Dallas Howard|Irrfan Khan|Vi...   Colin Trevorrow   \n",
       "1  Tom Hardy|Charlize Theron|Hugh Keays-Byrne|Nic...     George Miller   \n",
       "2  Shailene Woodley|Theo James|Kate Winslet|Ansel...  Robert Schwentke   \n",
       "3  Harrison Ford|Mark Hamill|Carrie Fisher|Adam D...       J.J. Abrams   \n",
       "4  Vin Diesel|Paul Walker|Jason Statham|Michelle ...         James Wan   \n",
       "\n",
       "                                            keywords  \\\n",
       "0  monster|dna|tyrannosaurus rex|velociraptor|island   \n",
       "1   future|chase|post-apocalyptic|dystopia|australia   \n",
       "2  based on novel|revolution|dystopia|sequel|dyst...   \n",
       "3              android|spaceship|jedi|space opera|3d   \n",
       "4                car race|speed|revenge|suspense|car   \n",
       "\n",
       "                                      genres  \n",
       "0  Action|Adventure|Science Fiction|Thriller  \n",
       "1  Action|Adventure|Science Fiction|Thriller  \n",
       "2         Adventure|Science Fiction|Thriller  \n",
       "3   Action|Adventure|Science Fiction|Fantasy  \n",
       "4                      Action|Crime|Thriller  "
      ]
     },
     "execution_count": 60,
     "metadata": {},
     "output_type": "execute_result"
    }
   ],
   "source": [
    "movies[['cast', 'director', 'keywords', 'genres']].head()"
   ]
  },
  {
   "cell_type": "code",
   "execution_count": 61,
   "id": "f74267fe-e9c1-4c3a-a910-5c75e68a5a65",
   "metadata": {},
   "outputs": [],
   "source": [
    "def format_names(x):\n",
    "    # Check if the input is a string and contains '|'\n",
    "    if isinstance(x, str) and '|' in x:\n",
    "        # Split the string by '|', strip whitespace, and return as a list\n",
    "        return [name.strip() for name in x.split('|')]\n",
    "    else:\n",
    "        # If input is not a string or doesn't contain '|', return an empty list\n",
    "        return []\n",
    "\n",
    "# Specify columns to process\n",
    "features = ['cast', 'keywords', 'genres']\n",
    "\n",
    "# Apply the format_names function to each specified feature column\n",
    "for feature in features:\n",
    "    movies[feature] = movies[feature].apply(format_names)"
   ]
  },
  {
   "cell_type": "code",
   "execution_count": 62,
   "id": "597efcc5-41a3-4a55-8362-c7c4755fd713",
   "metadata": {},
   "outputs": [],
   "source": [
    "def format_director(x):\n",
    "    # Check if the input is a non-empty string\n",
    "    if isinstance(x, str) and x.strip():  # Ensure the string is not empty after stripping whitespace\n",
    "        return [x.strip()]  # Return a list with the stripped director name\n",
    "    else:\n",
    "        return []  # Return an empty list for invalid or empty input\n",
    "\n",
    "# Apply the format_director function to the 'director' column\n",
    "movies['director'] = movies['director'].apply(format_director)"
   ]
  },
  {
   "cell_type": "code",
   "execution_count": 63,
   "id": "dc83a953-d417-4c95-a2cd-9bc48d0b6341",
   "metadata": {},
   "outputs": [
    {
     "data": {
      "text/html": [
       "<div>\n",
       "<style scoped>\n",
       "    .dataframe tbody tr th:only-of-type {\n",
       "        vertical-align: middle;\n",
       "    }\n",
       "\n",
       "    .dataframe tbody tr th {\n",
       "        vertical-align: top;\n",
       "    }\n",
       "\n",
       "    .dataframe thead th {\n",
       "        text-align: right;\n",
       "    }\n",
       "</style>\n",
       "<table border=\"1\" class=\"dataframe\">\n",
       "  <thead>\n",
       "    <tr style=\"text-align: right;\">\n",
       "      <th></th>\n",
       "      <th>cast</th>\n",
       "      <th>director</th>\n",
       "      <th>keywords</th>\n",
       "      <th>genres</th>\n",
       "    </tr>\n",
       "  </thead>\n",
       "  <tbody>\n",
       "    <tr>\n",
       "      <th>0</th>\n",
       "      <td>[Chris Pratt, Bryce Dallas Howard, Irrfan Khan...</td>\n",
       "      <td>[Colin Trevorrow]</td>\n",
       "      <td>[monster, dna, tyrannosaurus rex, velociraptor...</td>\n",
       "      <td>[Action, Adventure, Science Fiction, Thriller]</td>\n",
       "    </tr>\n",
       "    <tr>\n",
       "      <th>1</th>\n",
       "      <td>[Tom Hardy, Charlize Theron, Hugh Keays-Byrne,...</td>\n",
       "      <td>[George Miller]</td>\n",
       "      <td>[future, chase, post-apocalyptic, dystopia, au...</td>\n",
       "      <td>[Action, Adventure, Science Fiction, Thriller]</td>\n",
       "    </tr>\n",
       "    <tr>\n",
       "      <th>2</th>\n",
       "      <td>[Shailene Woodley, Theo James, Kate Winslet, A...</td>\n",
       "      <td>[Robert Schwentke]</td>\n",
       "      <td>[based on novel, revolution, dystopia, sequel,...</td>\n",
       "      <td>[Adventure, Science Fiction, Thriller]</td>\n",
       "    </tr>\n",
       "    <tr>\n",
       "      <th>3</th>\n",
       "      <td>[Harrison Ford, Mark Hamill, Carrie Fisher, Ad...</td>\n",
       "      <td>[J.J. Abrams]</td>\n",
       "      <td>[android, spaceship, jedi, space opera, 3d]</td>\n",
       "      <td>[Action, Adventure, Science Fiction, Fantasy]</td>\n",
       "    </tr>\n",
       "    <tr>\n",
       "      <th>4</th>\n",
       "      <td>[Vin Diesel, Paul Walker, Jason Statham, Miche...</td>\n",
       "      <td>[James Wan]</td>\n",
       "      <td>[car race, speed, revenge, suspense, car]</td>\n",
       "      <td>[Action, Crime, Thriller]</td>\n",
       "    </tr>\n",
       "  </tbody>\n",
       "</table>\n",
       "</div>"
      ],
      "text/plain": [
       "                                                cast            director  \\\n",
       "0  [Chris Pratt, Bryce Dallas Howard, Irrfan Khan...   [Colin Trevorrow]   \n",
       "1  [Tom Hardy, Charlize Theron, Hugh Keays-Byrne,...     [George Miller]   \n",
       "2  [Shailene Woodley, Theo James, Kate Winslet, A...  [Robert Schwentke]   \n",
       "3  [Harrison Ford, Mark Hamill, Carrie Fisher, Ad...       [J.J. Abrams]   \n",
       "4  [Vin Diesel, Paul Walker, Jason Statham, Miche...         [James Wan]   \n",
       "\n",
       "                                            keywords  \\\n",
       "0  [monster, dna, tyrannosaurus rex, velociraptor...   \n",
       "1  [future, chase, post-apocalyptic, dystopia, au...   \n",
       "2  [based on novel, revolution, dystopia, sequel,...   \n",
       "3        [android, spaceship, jedi, space opera, 3d]   \n",
       "4          [car race, speed, revenge, suspense, car]   \n",
       "\n",
       "                                           genres  \n",
       "0  [Action, Adventure, Science Fiction, Thriller]  \n",
       "1  [Action, Adventure, Science Fiction, Thriller]  \n",
       "2          [Adventure, Science Fiction, Thriller]  \n",
       "3   [Action, Adventure, Science Fiction, Fantasy]  \n",
       "4                       [Action, Crime, Thriller]  "
      ]
     },
     "execution_count": 63,
     "metadata": {},
     "output_type": "execute_result"
    }
   ],
   "source": [
    "movies[['cast', 'director', 'keywords', 'genres']].head()"
   ]
  },
  {
   "cell_type": "code",
   "execution_count": 64,
   "id": "5809551c-933b-4c49-8412-f564c0a6d4e9",
   "metadata": {},
   "outputs": [],
   "source": [
    "def clean_data(x):\n",
    "    if isinstance(x, list):\n",
    "        return [str.lower(i.replace(\" \", \"\")) for i in x]\n",
    "    else:\n",
    "        #Check if director exists. If not, return empty string\n",
    "        if isinstance(x, str):\n",
    "            return str.lower(x.replace(\" \", \"\"))\n",
    "        else:\n",
    "            return ''"
   ]
  },
  {
   "cell_type": "code",
   "execution_count": 65,
   "id": "ee824b29-d47a-46c6-bb0b-8aac47ec4c07",
   "metadata": {},
   "outputs": [],
   "source": [
    "# Apply clean_data function to your features.\n",
    "features = ['cast', 'keywords', 'director', 'genres']\n",
    "\n",
    "for feature in features:\n",
    "    movies[feature] = movies[feature].apply(clean_data)"
   ]
  },
  {
   "cell_type": "code",
   "execution_count": 66,
   "id": "0f330b7b-1b0e-45b3-94ab-791f7986b646",
   "metadata": {},
   "outputs": [
    {
     "data": {
      "text/html": [
       "<div>\n",
       "<style scoped>\n",
       "    .dataframe tbody tr th:only-of-type {\n",
       "        vertical-align: middle;\n",
       "    }\n",
       "\n",
       "    .dataframe tbody tr th {\n",
       "        vertical-align: top;\n",
       "    }\n",
       "\n",
       "    .dataframe thead th {\n",
       "        text-align: right;\n",
       "    }\n",
       "</style>\n",
       "<table border=\"1\" class=\"dataframe\">\n",
       "  <thead>\n",
       "    <tr style=\"text-align: right;\">\n",
       "      <th></th>\n",
       "      <th>cast</th>\n",
       "      <th>director</th>\n",
       "      <th>keywords</th>\n",
       "      <th>genres</th>\n",
       "    </tr>\n",
       "  </thead>\n",
       "  <tbody>\n",
       "    <tr>\n",
       "      <th>0</th>\n",
       "      <td>[chrispratt, brycedallashoward, irrfankhan, vi...</td>\n",
       "      <td>[colintrevorrow]</td>\n",
       "      <td>[monster, dna, tyrannosaurusrex, velociraptor,...</td>\n",
       "      <td>[action, adventure, sciencefiction, thriller]</td>\n",
       "    </tr>\n",
       "    <tr>\n",
       "      <th>1</th>\n",
       "      <td>[tomhardy, charlizetheron, hughkeays-byrne, ni...</td>\n",
       "      <td>[georgemiller]</td>\n",
       "      <td>[future, chase, post-apocalyptic, dystopia, au...</td>\n",
       "      <td>[action, adventure, sciencefiction, thriller]</td>\n",
       "    </tr>\n",
       "    <tr>\n",
       "      <th>2</th>\n",
       "      <td>[shailenewoodley, theojames, katewinslet, anse...</td>\n",
       "      <td>[robertschwentke]</td>\n",
       "      <td>[basedonnovel, revolution, dystopia, sequel, d...</td>\n",
       "      <td>[adventure, sciencefiction, thriller]</td>\n",
       "    </tr>\n",
       "    <tr>\n",
       "      <th>3</th>\n",
       "      <td>[harrisonford, markhamill, carriefisher, adamd...</td>\n",
       "      <td>[j.j.abrams]</td>\n",
       "      <td>[android, spaceship, jedi, spaceopera, 3d]</td>\n",
       "      <td>[action, adventure, sciencefiction, fantasy]</td>\n",
       "    </tr>\n",
       "    <tr>\n",
       "      <th>4</th>\n",
       "      <td>[vindiesel, paulwalker, jasonstatham, michelle...</td>\n",
       "      <td>[jameswan]</td>\n",
       "      <td>[carrace, speed, revenge, suspense, car]</td>\n",
       "      <td>[action, crime, thriller]</td>\n",
       "    </tr>\n",
       "  </tbody>\n",
       "</table>\n",
       "</div>"
      ],
      "text/plain": [
       "                                                cast           director  \\\n",
       "0  [chrispratt, brycedallashoward, irrfankhan, vi...   [colintrevorrow]   \n",
       "1  [tomhardy, charlizetheron, hughkeays-byrne, ni...     [georgemiller]   \n",
       "2  [shailenewoodley, theojames, katewinslet, anse...  [robertschwentke]   \n",
       "3  [harrisonford, markhamill, carriefisher, adamd...       [j.j.abrams]   \n",
       "4  [vindiesel, paulwalker, jasonstatham, michelle...         [jameswan]   \n",
       "\n",
       "                                            keywords  \\\n",
       "0  [monster, dna, tyrannosaurusrex, velociraptor,...   \n",
       "1  [future, chase, post-apocalyptic, dystopia, au...   \n",
       "2  [basedonnovel, revolution, dystopia, sequel, d...   \n",
       "3         [android, spaceship, jedi, spaceopera, 3d]   \n",
       "4           [carrace, speed, revenge, suspense, car]   \n",
       "\n",
       "                                          genres  \n",
       "0  [action, adventure, sciencefiction, thriller]  \n",
       "1  [action, adventure, sciencefiction, thriller]  \n",
       "2          [adventure, sciencefiction, thriller]  \n",
       "3   [action, adventure, sciencefiction, fantasy]  \n",
       "4                      [action, crime, thriller]  "
      ]
     },
     "execution_count": 66,
     "metadata": {},
     "output_type": "execute_result"
    }
   ],
   "source": [
    "movies[['cast', 'director', 'keywords', 'genres']].head()"
   ]
  },
  {
   "cell_type": "code",
   "execution_count": 69,
   "id": "d32872c8-9d74-413d-8112-86cdb0fd08c0",
   "metadata": {},
   "outputs": [],
   "source": [
    "def create_soup(row):\n",
    "    # Join keywords, cast, and genres into a single string\n",
    "    soup_parts = []\n",
    "    \n",
    "    # Append keywords (if available)\n",
    "    if isinstance(row['keywords'], list):\n",
    "        soup_parts.extend(row['keywords'])\n",
    "    \n",
    "    # Append cast (if available)\n",
    "    if isinstance(row['cast'], list):\n",
    "        soup_parts.extend(row['cast'])\n",
    "    \n",
    "    # Append director (if available)\n",
    "    if isinstance(row['director'], str):\n",
    "        soup_parts.append(row['director'])\n",
    "    \n",
    "    # Append genres (if available)\n",
    "    if isinstance(row['genres'], list):\n",
    "        soup_parts.extend(row['genres'])\n",
    "    \n",
    "    # Join all soup parts into a single string\n",
    "    return ' '.join(soup_parts)\n",
    "\n",
    "# Apply the create_soup function to each row of the DataFrame along axis=1\n",
    "movies['soup'] = movies.apply(create_soup, axis=1)"
   ]
  },
  {
   "cell_type": "code",
   "execution_count": 71,
   "id": "da06e70d-7b0d-4f03-91a3-1bcf28fc29b3",
   "metadata": {},
   "outputs": [],
   "source": [
    "from sklearn.feature_extraction.text import CountVectorizer\n",
    "\n",
    "count = CountVectorizer(stop_words='english')\n",
    "count_matrix = count.fit_transform(movies['soup'])"
   ]
  },
  {
   "cell_type": "code",
   "execution_count": 72,
   "id": "a82c8acf-3a63-44b7-bf81-36a140d35f16",
   "metadata": {},
   "outputs": [],
   "source": [
    "cosine_sim2 = cosine_similarity(count_matrix, count_matrix)"
   ]
  },
  {
   "cell_type": "code",
   "execution_count": 73,
   "id": "d1836866-b708-4f17-a8e7-d6bd88be62cf",
   "metadata": {},
   "outputs": [],
   "source": [
    "movies = movies.reset_index()\n",
    "indices = pd.Series(movies.index, index=movies['original_title'])"
   ]
  },
  {
   "cell_type": "code",
   "execution_count": 75,
   "id": "3d50f1df-0aa1-4783-9198-f9fa483948bc",
   "metadata": {},
   "outputs": [
    {
     "data": {
      "text/plain": [
       "453         The Dark Knight\n",
       "914           Batman Begins\n",
       "129     A Most Violent Year\n",
       "946             Harsh Times\n",
       "487           Vantage Point\n",
       "1126                 Hitman\n",
       "352                  Takers\n",
       "45                 Blackhat\n",
       "504              RockNRolla\n",
       "883          Gangster Squad\n",
       "dtype: object"
      ]
     },
     "execution_count": 75,
     "metadata": {},
     "output_type": "execute_result"
    }
   ],
   "source": [
    "content_recommendations('The Dark Knight Rises', cosine_sim2)"
   ]
  },
  {
   "cell_type": "code",
   "execution_count": 80,
   "id": "42a2dab4-33ee-4ef0-b0d0-60a696afc92e",
   "metadata": {},
   "outputs": [
    {
     "data": {
      "text/plain": [
       "14                 Avengers: Age of Ultron\n",
       "282                             Iron Man 2\n",
       "95     Captain America: The Winter Soldier\n",
       "455                               Iron Man\n",
       "535     Captain America: The First Avenger\n",
       "848                   Thor: The Dark World\n",
       "17                                 Ant-Man\n",
       "849                             Iron Man 3\n",
       "539                                   Thor\n",
       "521       Justice League: The New Frontier\n",
       "dtype: object"
      ]
     },
     "execution_count": 80,
     "metadata": {},
     "output_type": "execute_result"
    }
   ],
   "source": [
    "content_recommendations('The Avengers', cosine_sim2)"
   ]
  },
  {
   "cell_type": "code",
   "execution_count": 81,
   "id": "fc69d0c9-77a4-45d9-8673-ae18692290ed",
   "metadata": {},
   "outputs": [
    {
     "data": {
      "text/plain": [
       "14                 Avengers: Age of Ultron\n",
       "282                             Iron Man 2\n",
       "95     Captain America: The Winter Soldier\n",
       "455                               Iron Man\n",
       "535     Captain America: The First Avenger\n",
       "848                   Thor: The Dark World\n",
       "17                                 Ant-Man\n",
       "849                             Iron Man 3\n",
       "539                                   Thor\n",
       "521       Justice League: The New Frontier\n",
       "dtype: object"
      ]
     },
     "execution_count": 81,
     "metadata": {},
     "output_type": "execute_result"
    }
   ],
   "source": [
    "content_recommendations('The Avengers', cosine_sim2)"
   ]
  },
  {
   "cell_type": "code",
   "execution_count": null,
   "id": "117518dd-4939-4888-a1a7-04080cd0580a",
   "metadata": {},
   "outputs": [],
   "source": []
  }
 ],
 "metadata": {
  "kernelspec": {
   "display_name": "Python 3 (ipykernel)",
   "language": "python",
   "name": "python3"
  },
  "language_info": {
   "codemirror_mode": {
    "name": "ipython",
    "version": 3
   },
   "file_extension": ".py",
   "mimetype": "text/x-python",
   "name": "python",
   "nbconvert_exporter": "python",
   "pygments_lexer": "ipython3",
   "version": "3.11.7"
  }
 },
 "nbformat": 4,
 "nbformat_minor": 5
}
